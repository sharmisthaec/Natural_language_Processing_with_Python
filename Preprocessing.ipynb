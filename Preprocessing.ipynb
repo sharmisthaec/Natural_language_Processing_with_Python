{
 "cells": [
  {
   "cell_type": "code",
   "execution_count": 10,
   "metadata": {},
   "outputs": [
    {
     "name": "stdout",
     "output_type": "stream",
     "text": [
      "Requirement already satisfied: nltk in c:\\users\\admin\\anaconda3\\lib\\site-packages (3.4)\n",
      "Requirement already satisfied: six in c:\\users\\admin\\anaconda3\\lib\\site-packages (from nltk) (1.12.0)\n",
      "Requirement already satisfied: singledispatch in c:\\users\\admin\\anaconda3\\lib\\site-packages (from nltk) (3.4.0.3)\n"
     ]
    }
   ],
   "source": [
    "# Installation of nltk\n ",
    "#In Jupyter, the console commands can be executed by the ‘!’ sign before the command within the cell\n",
    "!pip install nltk"
   ]
  },
  {
   "cell_type": "markdown",
   "metadata": {},
   "source": [
    "### Text Preprocessing \n",
    "Following code can be used for text preprocessing useful for various NLP applications.\n",
    "\n",
    "First we need to import nltk\n",
    "\n",
    "For a given text, we can do sentence tokenization and word tokenization using nltk library functions.\n",
    "We can remove the punctuations using string library.\n",
    "\n",
    "We can then remove stop words in English to get the important words in the text.\n",
    "\n",
    "We also perform stemming and lemmatization. Stemming and Lemmatization are two different techniques that help reduce our data space. We don’t need to check every single form of a word for reducing the size of the big data corpus."
   ]
  },
  {
   "cell_type": "code",
   "execution_count": 11,
   "metadata": {},
   "outputs": [],
   "source": [
    "#import nltk library for using its different functions\n",
    "import nltk\n",
    "import string\n",
    "import re"
   ]
  },
  {
   "cell_type": "code",
   "execution_count": 12,
   "metadata": {},
   "outputs": [],
   "source": [
    "#  Sentence Tokenization  - Tokenizes sentences from text\n",
    "from nltk.tokenize import sent_tokenize"
   ]
  },
  {
   "cell_type": "code",
   "execution_count": 13,
   "metadata": {},
   "outputs": [],
   "source": [
    "# Word Tokenization  - Tokenizes words in sentences\n",
    "from nltk.tokenize import word_tokenize"
   ]
  },
  {
   "cell_type": "code",
   "execution_count": 17,
   "metadata": {},
   "outputs": [],
   "source": [
    "statement = \"Hello all, I am Dr. Chetana. Welcome to the lab session of Natural Language Processing(NLP). NLP is a very interesting area.\""
   ]
  },
  {
   "cell_type": "code",
   "execution_count": 18,
   "metadata": {},
   "outputs": [
    {
     "name": "stdout",
     "output_type": "stream",
     "text": [
      "['Hello all, I am Dr. Chetana.', 'Welcome to the lab session of Natural Language Processing(NLP).', 'NLP is a very interesting area.']\n",
      "['Hello', 'all', ',', 'I', 'am', 'Dr.', 'Chetana', '.', 'Welcome', 'to', 'the', 'lab', 'session', 'of', 'Natural', 'Language', 'Processing', '(', 'NLP', ')', '.', 'NLP', 'is', 'a', 'very', 'interesting', 'area', '.']\n"
     ]
    }
   ],
   "source": [
    "sentences = sent_tokenize(statement)\n",
    "print(sentences)\n",
    "words = word_tokenize(statement)\n",
    "print(words)"
   ]
  },
  {
   "cell_type": "code",
   "execution_count": 19,
   "metadata": {},
   "outputs": [
    {
     "name": "stdout",
     "output_type": "stream",
     "text": [
      "Hello all, I am Dr. Chetana.\n",
      "Welcome to the lab session of Natural Language Processing(NLP).\n",
      "NLP is a very interesting area.\n"
     ]
    }
   ],
   "source": [
    "for sentence in sentences:\n",
    "    print(sentence)"
   ]
  },
  {
   "cell_type": "code",
   "execution_count": 20,
   "metadata": {},
   "outputs": [
    {
     "name": "stdout",
     "output_type": "stream",
     "text": [
      "Hello\n",
      "all\n",
      ",\n",
      "I\n",
      "am\n",
      "Dr.\n",
      "Chetana\n",
      ".\n",
      "Welcome\n",
      "to\n",
      "the\n",
      "lab\n",
      "session\n",
      "of\n",
      "Natural\n",
      "Language\n",
      "Processing\n",
      "(\n",
      "NLP\n",
      ")\n",
      ".\n",
      "NLP\n",
      "is\n",
      "a\n",
      "very\n",
      "interesting\n",
      "area\n",
      ".\n"
     ]
    }
   ],
   "source": [
    "for word in words:\n",
    "    print(word)"
   ]
  },
  {
   "cell_type": "code",
   "execution_count": 21,
   "metadata": {},
   "outputs": [
    {
     "name": "stdout",
     "output_type": "stream",
     "text": [
      "Hello\n",
      "all\n",
      "I\n",
      "am\n",
      "Dr.\n",
      "Chetana\n",
      "Welcome\n",
      "to\n",
      "the\n",
      "lab\n",
      "session\n",
      "of\n",
      "Natural\n",
      "Language\n",
      "Processing\n",
      "NLP\n",
      "NLP\n",
      "is\n",
      "a\n",
      "very\n",
      "interesting\n",
      "area\n"
     ]
    }
   ],
   "source": [
    " # Remove punctuations\n",
    "for word in words:\n",
    "    if word not in string.punctuation:\n",
    "        print(word)"
   ]
  },
  {
   "cell_type": "code",
   "execution_count": 22,
   "metadata": {},
   "outputs": [
    {
     "name": "stdout",
     "output_type": "stream",
     "text": [
      "['Hello', 'all', 'I', 'am', 'Dr.', 'Chetana', 'Welcome', 'to', 'the', 'lab', 'session', 'of', 'Natural', 'Language', 'Processing', 'NLP', 'NLP', 'is', 'a', 'very', 'interesting', 'area']\n"
     ]
    }
   ],
   "source": [
    "only_words=[w for w in words if not w in string.punctuation]\n",
    "print(only_words)"
   ]
  },
  {
   "cell_type": "code",
   "execution_count": 23,
   "metadata": {},
   "outputs": [],
   "source": [
    "#Removal of stop words from the text\n",
    "from nltk.corpus import stopwords"
   ]
  },
  {
   "cell_type": "code",
   "execution_count": 24,
   "metadata": {},
   "outputs": [
    {
     "name": "stdout",
     "output_type": "stream",
     "text": [
      "{'my', 'd', 've', 'they', 'under', 'did', 'theirs', 'can', \"that'll\", \"needn't\", 'ourselves', 'into', 'because', 'nor', 'own', 'too', 'haven', 'only', 'other', \"you'd\", \"it's\", 'while', 'or', 'she', 'to', 'its', 'why', 'those', 'aren', 'on', 'isn', 'mightn', 'hasn', 'is', 'out', 'o', 'over', 'once', \"you've\", 'he', 'him', 'further', 'such', 'ma', 'by', 't', 'ours', 'has', 'who', 'their', 'then', \"mustn't\", 'yourself', 'me', 'being', 'all', 'between', 'you', 'have', \"won't\", \"she's\", 'when', 'hers', 'couldn', \"isn't\", \"hadn't\", 'we', 'at', 'his', 'mustn', \"shan't\", 'up', \"wasn't\", 'shouldn', 'this', 'will', 'about', 'now', 'in', 'weren', 'than', 'do', 'it', \"should've\", 'them', \"you're\", 'yourselves', 'before', \"you'll\", 'yours', 'himself', 'any', \"weren't\", 'below', 'a', 'be', 'with', \"hasn't\", 'but', 'll', 'wouldn', 'y', 'ain', 'doing', 'as', 'few', 'was', 'which', 'your', 'our', 'until', 'these', 'hadn', 'from', 're', 'are', 'same', 'wasn', 's', 'and', 'if', 'her', \"shouldn't\", 'both', 'what', 'been', 'the', 'no', 'shan', 'through', \"mightn't\", 'don', 'an', 'above', 'won', \"didn't\", 'again', 'that', 'needn', \"couldn't\", 'm', 'not', 'after', 'here', 'does', \"haven't\", 'for', 'very', 'itself', 'how', 'some', 'should', \"don't\", \"wouldn't\", 'of', 'themselves', 'just', 'had', 'more', 'so', 'most', 'having', \"doesn't\", 'am', 'myself', 'during', 'herself', 'each', 'off', 'there', 'i', 'were', 'against', \"aren't\", 'didn', 'doesn', 'where', 'whom', 'down'}\n"
     ]
    }
   ],
   "source": [
    "# List of English stop words \n",
    "english_stop_words=set(stopwords.words(\"english\"))\n",
    "print(english_stop_words)"
   ]
  },
  {
   "cell_type": "code",
   "execution_count": 25,
   "metadata": {},
   "outputs": [
    {
     "name": "stdout",
     "output_type": "stream",
     "text": [
      "['Hello', 'I', 'Dr.', 'Chetana', 'Welcome', 'lab', 'session', 'Natural', 'Language', 'Processing', 'NLP', 'NLP', 'interesting', 'area']\n"
     ]
    }
   ],
   "source": [
    "# Removal of stop words from the text\n",
    "keywords=[w for w in only_words if not w in english_stop_words]\n",
    "print(keywords)"
   ]
  },
  {
   "cell_type": "markdown",
   "metadata": {},
   "source": [
    "### Lemmatization\n",
    "\n",
    "Lemmatization in NLP is the process through which several different forms of the same word are mapped to one single form, which we can call the root form or the base form. In more technical terms, the root form is called a lemma. By reducing the number of forms a word can take, we make sure that we reduce our data space and that we don’t have to check every single form of a word. It helps us ignore morphological variations on a single word. Lemmatization brings context to the words.So it goes a steps further by linking words with similar meaning to one word. For example if a paragraph has words like cars, trains and automobile, then it will link all of them to automobile. In the below program we use the WordNet lexical database for lemmatization."
   ]
  },
  {
   "cell_type": "code",
   "execution_count": 36,
   "metadata": {},
   "outputs": [
    {
     "name": "stdout",
     "output_type": "stream",
     "text": [
      "['Hello', 'all', 'I', 'am', 'Dr.', 'Chetana', 'Welcome', 'to', 'the', 'lab', 'session', 'of', 'Natural', 'Language', 'Processing', 'NLP', 'NLP', 'is', 'a', 'very', 'interesting', 'area']\n"
     ]
    }
   ],
   "source": [
    "# Lemmatization\n",
    "from nltk.stem import WordNetLemmatizer\n",
    "wordnet_lemmatizer = WordNetLemmatizer()\n",
    "keywords=[w for w in only_words if w in wordnet_lemmatizer.lemmatize(w)]\n",
    "print(keywords)\n",
    "#Next find the roots of the word\n",
    "##for w in keywords:\n",
    "    #lemmatized_words=wordnet_lemmatizer.lemmatize(w)\n",
    "    #print(wordnet_lemmatizer.lemmatize(w))"
   ]
  },
  {
   "cell_type": "markdown",
   "metadata": {},
   "source": [
    "### Stemming\n",
    "\n",
    "Stemming in NLP is the process of removing prefixes and suffixes from words so that they are reduced to simpler forms which are called stems. The purpose of stemming is to reduce our vocabulary and dimensionality for NLP tasks and to improve speed and efficiency in information retrieval and information processing tasks. Stemming is a simpler, faster process than lemmatization. The difference is that stemming is usually only rule-based approach. And, as we've showed with our earlier example, rule-based approaches can fail very quickly on more complex examples. But for most problems, it works well enough. Many search engines use stemming to improve their search results.\n"
   ]
  },
  {
   "cell_type": "code",
   "execution_count": 27,
   "metadata": {},
   "outputs": [],
   "source": [
    "# Stemming\n",
    "from nltk.stem import PorterStemmer"
   ]
  },
  {
   "cell_type": "code",
   "execution_count": 28,
   "metadata": {},
   "outputs": [
    {
     "name": "stdout",
     "output_type": "stream",
     "text": [
      "hello\n",
      "I\n",
      "dr.\n",
      "chetana\n",
      "welcom\n",
      "lab\n",
      "session\n",
      "natur\n",
      "languag\n",
      "process\n",
      "nlp\n",
      "nlp\n",
      "interest\n",
      "area\n"
     ]
    }
   ],
   "source": [
    "porter_stemmer = PorterStemmer()\n",
    "# First Word tokenization\n",
    "nltk_tokens = nltk.word_tokenize(statement)\n",
    "#Next find the roots of the word\n",
    "for w in keywords:\n",
    "       print(porter_stemmer.stem(w))"
   ]
  },
  {
   "cell_type": "code",
   "execution_count": 29,
   "metadata": {},
   "outputs": [],
   "source": [
    "# POS Tagging"
   ]
  },
  {
   "cell_type": "code",
   "execution_count": 38,
   "metadata": {},
   "outputs": [
    {
     "name": "stdout",
     "output_type": "stream",
     "text": [
      "[('Hello', 'NNP'), ('all', 'DT'), ('I', 'PRP'), ('am', 'VBP'), ('Dr.', 'NNP'), ('Chetana', 'NNP'), ('Welcome', 'NNP'), ('to', 'TO'), ('the', 'DT'), ('lab', 'NN'), ('session', 'NN'), ('of', 'IN'), ('Natural', 'NNP'), ('Language', 'NNP'), ('Processing', 'NNP'), ('NLP', 'NNP'), ('NLP', 'NNP'), ('is', 'VBZ'), ('a', 'DT'), ('very', 'RB'), ('interesting', 'JJ'), ('area', 'NN')]\n"
     ]
    }
   ],
   "source": [
    "print(nltk.pos_tag(keywords))"
   ]
  },
  {
   "cell_type": "code",
   "execution_count": null,
   "metadata": {},
   "outputs": [],
   "source": []
  },
  {
   "cell_type": "code",
   "execution_count": null,
   "metadata": {},
   "outputs": [],
   "source": []
  }
 ],
 "metadata": {
  "kernelspec": {
   "display_name": "Python 3",
   "language": "python",
   "name": "python3"
  },
  "language_info": {
   "codemirror_mode": {
    "name": "ipython",
    "version": 3
   },
   "file_extension": ".py",
   "mimetype": "text/x-python",
   "name": "python",
   "nbconvert_exporter": "python",
   "pygments_lexer": "ipython3",
   "version": "3.7.3"
  }
 },
 "nbformat": 4,
 "nbformat_minor": 2
}
